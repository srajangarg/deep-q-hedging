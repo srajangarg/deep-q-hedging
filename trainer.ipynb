{
 "cells": [
  {
   "cell_type": "code",
   "execution_count": 32,
   "metadata": {
    "ExecuteTime": {
     "end_time": "2021-09-12T10:26:28.886241Z",
     "start_time": "2021-09-12T10:26:28.879202Z"
    }
   },
   "outputs": [],
   "source": [
    "import torch\n",
    "import gym\n",
    "import time\n",
    "import numpy as np\n",
    "import importlib\n",
    "import matplotlib.pyplot as plt\n",
    "import pandas as pd\n",
    "%matplotlib inline"
   ]
  },
  {
   "cell_type": "code",
   "execution_count": 34,
   "metadata": {
    "ExecuteTime": {
     "end_time": "2021-09-12T10:26:30.684520Z",
     "start_time": "2021-09-12T10:26:30.677036Z"
    }
   },
   "outputs": [],
   "source": [
    "import hedging_gym, asset_price_models, option_price_models, dqn_utils\n",
    "_ = importlib.reload(hedging_gym)\n",
    "_ = importlib.reload(asset_price_models)\n",
    "_ = importlib.reload(option_price_models)\n",
    "_ = importlib.reload(dqn_utils)\n",
    "\n",
    "from hedging_gym import HedgingEnv\n",
    "from asset_price_models import GBM\n",
    "from option_price_models import BSM\n",
    "from dqn_utils import predict_while_training, predict_while_testing\n",
    "from dqn_utils import add_to_training_set, train, create_dqn"
   ]
  },
  {
   "cell_type": "code",
   "execution_count": 35,
   "metadata": {
    "ExecuteTime": {
     "end_time": "2021-09-12T10:26:31.793257Z",
     "start_time": "2021-09-12T10:26:31.778004Z"
    }
   },
   "outputs": [],
   "source": [
    "np.random.seed(0)\n",
    "torch.manual_seed(0)\n",
    "\n",
    "# option model paramaters\n",
    "strike_price             = 100\n",
    "rf_interest_rate         = 0.01\n",
    "T                        = 1.0\n",
    "\n",
    "# asset model parameters\n",
    "mu                       = 0\n",
    "vol                      = 0.15\n",
    "dt                       = T / 128\n",
    "S_0                      = 100\n",
    "\n",
    "# hedging gym parameters\n",
    "max_steps                = 100\n",
    "option_contracts         = 100\n",
    "initial_holding_fraction = 0.5\n",
    "trading_cost_parameter   = 0.1\n",
    "trading_cost_gradient    = 0.01\n",
    "\n",
    "# DQN parameters\n",
    "num_hidden               = 1\n",
    "hidden_dim               = 20\n",
    "discount                 = 0.8\n",
    "epsilon_decay            = 0.999\n",
    "learning_rate            = 0.001\n",
    "\n",
    "asset_price_model  = GBM(mu, vol, S_0, dt)\n",
    "option_price_model = BSM(strike_price, rf_interest_rate, vol, T, dt)\n",
    "env                = HedgingEnv(asset_price_model, option_price_model, max_steps, option_contracts,\n",
    "                                initial_holding_fraction, trading_cost_parameter, trading_cost_gradient)\n",
    "dqn                = create_dqn(num_hidden, hidden_dim, discount, epsilon_decay, learning_rate, env)"
   ]
  },
  {
   "cell_type": "code",
   "execution_count": 36,
   "metadata": {
    "ExecuteTime": {
     "end_time": "2021-09-12T11:22:07.452296Z",
     "start_time": "2021-09-12T10:26:33.299334Z"
    },
    "scrolled": true
   },
   "outputs": [
    {
     "name": "stdout",
     "output_type": "stream",
     "text": [
      "processing episode 0\n",
      "processing episode 50\n",
      "processing episode 100\n",
      "processing episode 150\n",
      "processing episode 200\n",
      "processing episode 250\n",
      "processing episode 300\n",
      "processing episode 350\n",
      "processing episode 400\n",
      "processing episode 450\n",
      "processing episode 500\n",
      "processing episode 550\n",
      "processing episode 600\n",
      "processing episode 650\n",
      "processing episode 700\n",
      "processing episode 750\n",
      "processing episode 800\n",
      "processing episode 850\n",
      "processing episode 900\n",
      "processing episode 950\n",
      "processing episode 1000\n",
      "processing episode 1050\n",
      "processing episode 1100\n",
      "processing episode 1150\n",
      "processing episode 1200\n",
      "processing episode 1250\n",
      "processing episode 1300\n",
      "processing episode 1350\n",
      "processing episode 1400\n",
      "processing episode 1450\n",
      "processing episode 1500\n",
      "processing episode 1550\n",
      "processing episode 1600\n",
      "processing episode 1650\n",
      "processing episode 1700\n",
      "processing episode 1750\n",
      "processing episode 1800\n",
      "processing episode 1850\n",
      "processing episode 1900\n",
      "processing episode 1950\n",
      "processing episode 2000\n",
      "processing episode 2050\n",
      "processing episode 2100\n",
      "processing episode 2150\n",
      "processing episode 2200\n",
      "processing episode 2250\n",
      "processing episode 2300\n",
      "processing episode 2350\n",
      "processing episode 2400\n",
      "processing episode 2450\n",
      "processing episode 2500\n",
      "processing episode 2550\n",
      "processing episode 2600\n",
      "processing episode 2650\n",
      "processing episode 2700\n",
      "processing episode 2750\n",
      "processing episode 2800\n",
      "processing episode 2850\n",
      "processing episode 2900\n",
      "processing episode 2950\n",
      "processing episode 3000\n",
      "processing episode 3050\n",
      "processing episode 3100\n",
      "processing episode 3150\n",
      "processing episode 3200\n",
      "processing episode 3250\n",
      "processing episode 3300\n",
      "processing episode 3350\n",
      "processing episode 3400\n",
      "processing episode 3450\n",
      "processing episode 3500\n",
      "processing episode 3550\n",
      "processing episode 3600\n",
      "processing episode 3650\n",
      "processing episode 3700\n",
      "processing episode 3750\n",
      "processing episode 3800\n",
      "processing episode 3850\n",
      "processing episode 3900\n",
      "processing episode 3950\n",
      "processing episode 4000\n",
      "processing episode 4050\n",
      "processing episode 4100\n",
      "processing episode 4150\n",
      "processing episode 4200\n",
      "processing episode 4250\n",
      "processing episode 4300\n",
      "processing episode 4350\n",
      "processing episode 4400\n",
      "processing episode 4450\n",
      "processing episode 4500\n",
      "processing episode 4550\n",
      "processing episode 4600\n",
      "processing episode 4650\n",
      "processing episode 4700\n",
      "processing episode 4750\n",
      "processing episode 4800\n",
      "processing episode 4850\n",
      "processing episode 4900\n",
      "processing episode 4950\n",
      "processing episode 5000\n",
      "processing episode 5050\n",
      "processing episode 5100\n",
      "processing episode 5150\n",
      "processing episode 5200\n",
      "processing episode 5250\n",
      "processing episode 5300\n",
      "processing episode 5350\n",
      "processing episode 5400\n",
      "processing episode 5450\n",
      "processing episode 5500\n",
      "processing episode 5550\n",
      "processing episode 5600\n",
      "processing episode 5650\n",
      "processing episode 5700\n",
      "processing episode 5750\n",
      "processing episode 5800\n",
      "processing episode 5850\n",
      "processing episode 5900\n",
      "processing episode 5950\n",
      "processing episode 6000\n",
      "processing episode 6050\n",
      "processing episode 6100\n",
      "processing episode 6150\n",
      "processing episode 6200\n",
      "processing episode 6250\n",
      "processing episode 6300\n",
      "processing episode 6350\n",
      "processing episode 6400\n",
      "processing episode 6450\n",
      "processing episode 6500\n",
      "processing episode 6550\n",
      "processing episode 6600\n",
      "processing episode 6650\n",
      "processing episode 6700\n",
      "processing episode 6750\n",
      "processing episode 6800\n",
      "processing episode 6850\n",
      "processing episode 6900\n",
      "processing episode 6950\n",
      "processing episode 7000\n",
      "processing episode 7050\n",
      "processing episode 7100\n",
      "processing episode 7150\n",
      "processing episode 7200\n",
      "processing episode 7250\n",
      "processing episode 7300\n",
      "processing episode 7350\n",
      "processing episode 7400\n",
      "processing episode 7450\n",
      "processing episode 7500\n",
      "processing episode 7550\n",
      "processing episode 7600\n",
      "processing episode 7650\n",
      "processing episode 7700\n",
      "processing episode 7750\n",
      "processing episode 7800\n",
      "processing episode 7850\n",
      "processing episode 7900\n",
      "processing episode 7950\n",
      "processing episode 8000\n",
      "processing episode 8050\n",
      "processing episode 8100\n",
      "processing episode 8150\n",
      "processing episode 8200\n",
      "processing episode 8250\n",
      "processing episode 8300\n",
      "processing episode 8350\n",
      "processing episode 8400\n",
      "processing episode 8450\n",
      "processing episode 8500\n",
      "processing episode 8550\n",
      "processing episode 8600\n",
      "processing episode 8650\n",
      "processing episode 8700\n",
      "processing episode 8750\n",
      "processing episode 8800\n",
      "processing episode 8850\n",
      "processing episode 8900\n",
      "processing episode 8950\n",
      "processing episode 9000\n",
      "processing episode 9050\n",
      "processing episode 9100\n",
      "processing episode 9150\n",
      "processing episode 9200\n",
      "processing episode 9250\n",
      "processing episode 9300\n",
      "processing episode 9350\n",
      "processing episode 9400\n",
      "processing episode 9450\n",
      "processing episode 9500\n",
      "processing episode 9550\n",
      "processing episode 9600\n",
      "processing episode 9650\n",
      "processing episode 9700\n",
      "processing episode 9750\n",
      "processing episode 9800\n",
      "processing episode 9850\n",
      "processing episode 9900\n",
      "processing episode 9950\n",
      "processing episode 10000\n"
     ]
    }
   ],
   "source": [
    "num_episodes = 10001\n",
    "\n",
    "rows = []\n",
    "\n",
    "for episode in range(num_episodes):\n",
    "    if episode % 50 == 0:\n",
    "        print(f\"processing episode {episode}\")\n",
    "    \n",
    "    done  = False\n",
    "    state = env.reset()\n",
    "\n",
    "    hedging_pnls = []\n",
    "    trading_pnls = []\n",
    "    rewards      = []\n",
    "    \n",
    "    while not done:\n",
    "        new_h                 = predict_while_training(dqn, state)\n",
    "        \n",
    "        new_state, pnls, done = env.step(new_h.item())\n",
    "        reward                = 1e5 * (0.005*np.sum(pnls) - np.sum(pnls)**2)\n",
    "        \n",
    "        add_to_training_set(dqn, state, new_h, new_state, reward, done)\n",
    "        state = new_state\n",
    "        \n",
    "        hedging_pnls.append(pnls[0])\n",
    "        trading_pnls.append(pnls[1])\n",
    "        rewards.append(reward)\n",
    "\n",
    "        \n",
    "    if episode > 250:\n",
    "        rows.append({\n",
    "            'hedging_pnl' : np.mean(hedging_pnls), \n",
    "            'hedging_std' : np.std(hedging_pnls), \n",
    "            'trading_pnl' : np.mean(trading_pnls),\n",
    "            'reward'      : np.mean(rewards)   \n",
    "        })\n",
    "            \n",
    "        for k in range(int(env.max_steps)):\n",
    "            train(dqn)\n"
   ]
  },
  {
   "cell_type": "code",
   "execution_count": 37,
   "metadata": {
    "ExecuteTime": {
     "end_time": "2021-09-12T11:22:07.472466Z",
     "start_time": "2021-09-12T11:22:07.453685Z"
    }
   },
   "outputs": [],
   "source": [
    "df_rl = pd.DataFrame(rows)"
   ]
  },
  {
   "cell_type": "code",
   "execution_count": 38,
   "metadata": {
    "ExecuteTime": {
     "end_time": "2021-09-12T11:22:27.332407Z",
     "start_time": "2021-09-12T11:22:07.474018Z"
    },
    "scrolled": true
   },
   "outputs": [],
   "source": [
    "rows = []\n",
    "\n",
    "for j in range(1000):\n",
    "    done  = False\n",
    "    state = env.reset()\n",
    "\n",
    "    hedging_pnls = []\n",
    "    trading_pnls = []\n",
    "    rewards      = []\n",
    "\n",
    "    while not done:\n",
    "        new_h                 = round(env.option_delta() * env.OCS)\n",
    "#         print(state[0], new_h, env.option_delta())\n",
    "\n",
    "        new_state, pnls, done = env.step(new_h)\n",
    "        reward                = 1e5 * (0.005*np.sum(pnls) - np.sum(pnls)**2)\n",
    "\n",
    "        state = new_state\n",
    "\n",
    "        hedging_pnls.append(pnls[0])\n",
    "        trading_pnls.append(pnls[1])\n",
    "        rewards.append(reward)\n",
    "\n",
    "    rows.append({\n",
    "            'hedging_pnl' : np.mean(hedging_pnls),\n",
    "            'hedging_std' : np.std(hedging_pnls),\n",
    "            'trading_pnl' : np.mean(trading_pnls),\n",
    "            'reward'      : np.mean(rewards)   \n",
    "    })"
   ]
  },
  {
   "cell_type": "code",
   "execution_count": 39,
   "metadata": {
    "ExecuteTime": {
     "end_time": "2021-09-12T11:22:27.340354Z",
     "start_time": "2021-09-12T11:22:27.333643Z"
    }
   },
   "outputs": [],
   "source": [
    "df_manual = pd.DataFrame(rows)"
   ]
  },
  {
   "cell_type": "code",
   "execution_count": 40,
   "metadata": {
    "ExecuteTime": {
     "end_time": "2021-09-12T11:22:31.960651Z",
     "start_time": "2021-09-12T11:22:31.705964Z"
    },
    "scrolled": true
   },
   "outputs": [
    {
     "data": {
      "text/plain": [
       "<AxesSubplot:>"
      ]
     },
     "execution_count": 40,
     "metadata": {},
     "output_type": "execute_result"
    },
    {
     "data": {
      "image/png": "[encoded data removed]",
      "text/plain": [
       "<Figure size 432x288 with 1 Axes>"
      ]
     },
     "metadata": {
      "needs_background": "light"
     },
     "output_type": "display_data"
    }
   ],
   "source": [
    "df_manual['hedging_pnl'].hist(bins=20)"
   ]
  },
  {
   "cell_type": "code",
   "execution_count": 41,
   "metadata": {
    "ExecuteTime": {
     "end_time": "2021-09-12T11:22:34.977904Z",
     "start_time": "2021-09-12T11:22:34.854692Z"
    }
   },
   "outputs": [
    {
     "data": {
      "text/plain": [
       "<AxesSubplot:>"
      ]
     },
     "execution_count": 41,
     "metadata": {},
     "output_type": "execute_result"
    },
    {
     "data": {
      "image/png": "[encoded data removed]",
      "text/plain": [
       "<Figure size 432x288 with 1 Axes>"
      ]
     },
     "metadata": {
      "needs_background": "light"
     },
     "output_type": "display_data"
    }
   ],
   "source": [
    "df_rl[:1000]['hedging_pnl'].hist(bins=20)"
   ]
  },
  {
   "cell_type": "code",
   "execution_count": 42,
   "metadata": {
    "ExecuteTime": {
     "end_time": "2021-09-12T11:22:37.294800Z",
     "start_time": "2021-09-12T11:22:37.164174Z"
    }
   },
   "outputs": [
    {
     "data": {
      "text/plain": [
       "<AxesSubplot:>"
      ]
     },
     "execution_count": 42,
     "metadata": {},
     "output_type": "execute_result"
    },
    {
     "data": {
      "image/png": "[encoded data removed]",
      "text/plain": [
       "<Figure size 432x288 with 1 Axes>"
      ]
     },
     "metadata": {
      "needs_background": "light"
     },
     "output_type": "display_data"
    }
   ],
   "source": [
    "df_rl[-1000:]['hedging_pnl'].hist(bins=20)"
   ]
  },
  {
   "cell_type": "code",
   "execution_count": null,
   "metadata": {
    "ExecuteTime": {
     "end_time": "2021-09-12T09:33:18.439329Z",
     "start_time": "2021-09-12T09:33:18.433950Z"
    }
   },
   "outputs": [],
   "source": [
    "new_state, pnls, done"
   ]
  },
  {
   "cell_type": "code",
   "execution_count": 44,
   "metadata": {
    "ExecuteTime": {
     "end_time": "2021-09-12T11:23:17.005042Z",
     "start_time": "2021-09-12T11:23:16.885088Z"
    }
   },
   "outputs": [
    {
     "data": {
      "text/plain": [
       "<AxesSubplot:>"
      ]
     },
     "execution_count": 44,
     "metadata": {},
     "output_type": "execute_result"
    },
    {
     "data": {
      "image/png": "[encoded data removed]",
      "text/plain": [
       "<Figure size 432x288 with 1 Axes>"
      ]
     },
     "metadata": {
      "needs_background": "light"
     },
     "output_type": "display_data"
    }
   ],
   "source": [
    "df_manual['hedging_std'].hist(bins=20)"
   ]
  },
  {
   "cell_type": "code",
   "execution_count": 45,
   "metadata": {
    "ExecuteTime": {
     "end_time": "2021-09-12T11:23:19.808169Z",
     "start_time": "2021-09-12T11:23:19.683556Z"
    }
   },
   "outputs": [
    {
     "data": {
      "text/plain": [
       "<AxesSubplot:>"
      ]
     },
     "execution_count": 45,
     "metadata": {},
     "output_type": "execute_result"
    },
    {
     "data": {
      "image/png": "[encoded data removed]",
      "text/plain": [
       "<Figure size 432x288 with 1 Axes>"
      ]
     },
     "metadata": {
      "needs_background": "light"
     },
     "output_type": "display_data"
    }
   ],
   "source": [
    "df_rl[:1000]['hedging_std'].hist(bins=20)"
   ]
  },
  {
   "cell_type": "code",
   "execution_count": 46,
   "metadata": {
    "ExecuteTime": {
     "end_time": "2021-09-12T11:23:22.285415Z",
     "start_time": "2021-09-12T11:23:22.165780Z"
    }
   },
   "outputs": [
    {
     "data": {
      "text/plain": [
       "<AxesSubplot:>"
      ]
     },
     "execution_count": 46,
     "metadata": {},
     "output_type": "execute_result"
    },
    {
     "data": {
      "image/png": "[encoded data removed]",
      "text/plain": [
       "<Figure size 432x288 with 1 Axes>"
      ]
     },
     "metadata": {
      "needs_background": "light"
     },
     "output_type": "display_data"
    }
   ],
   "source": [
    "df_rl[-1000:]['hedging_std'].hist(bins=20)"
   ]
  },
  {
   "cell_type": "code",
   "execution_count": null,
   "metadata": {},
   "outputs": [],
   "source": []
  }
 ],
 "metadata": {
  "kernelspec": {
   "display_name": "Python 3",
   "language": "python",
   "name": "python3"
  },
  "language_info": {
   "codemirror_mode": {
    "name": "ipython",
    "version": 3
   },
   "file_extension": ".py",
   "mimetype": "text/x-python",
   "name": "python",
   "nbconvert_exporter": "python",
   "pygments_lexer": "ipython3",
   "version": "3.8.5"
  }
 },
 "nbformat": 4,
 "nbformat_minor": 4
}
