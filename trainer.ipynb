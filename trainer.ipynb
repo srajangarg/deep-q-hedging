{
 "cells": [
  {
   "cell_type": "code",
   "execution_count": 1,
   "metadata": {
    "ExecuteTime": {
     "end_time": "2021-09-12T07:30:53.151746Z",
     "start_time": "2021-09-12T07:30:52.071981Z"
    }
   },
   "outputs": [],
   "source": [
    "import torch\n",
    "import gym\n",
    "import time\n",
    "import numpy as np\n",
    "import importlib\n",
    "import matplotlib.pyplot as plt\n",
    "from machin.frame.algorithms import DQN"
   ]
  },
  {
   "cell_type": "code",
   "execution_count": 2,
   "metadata": {
    "ExecuteTime": {
     "end_time": "2021-09-12T07:30:53.337771Z",
     "start_time": "2021-09-12T07:30:53.153373Z"
    }
   },
   "outputs": [],
   "source": [
    "import hedging_gym, asset_price_models, option_price_models\n",
    "_ = importlib.reload(hedging_gym)\n",
    "_ = importlib.reload(asset_price_models)\n",
    "_ = importlib.reload(option_price_models)\n",
    "\n",
    "from hedging_gym import HedgingEnv\n",
    "from asset_price_models import GBM\n",
    "from option_price_models import BSM"
   ]
  },
  {
   "cell_type": "code",
   "execution_count": 3,
   "metadata": {
    "ExecuteTime": {
     "end_time": "2021-09-12T07:30:53.345338Z",
     "start_time": "2021-09-12T07:30:53.340818Z"
    }
   },
   "outputs": [],
   "source": [
    "np.random.seed(0)\n",
    "torch.manual_seed(0)\n",
    "\n",
    "# option model paramaters\n",
    "strike_price             = 100\n",
    "rf_interest_rate         = 0.01\n",
    "T                        = 1.0\n",
    "\n",
    "# asset model parameters\n",
    "mu                       = 0\n",
    "vol                      = 0.15\n",
    "dt                       = T / 8\n",
    "S_0                      = 100\n",
    "\n",
    "# hedging gym parameters\n",
    "max_steps                = 4\n",
    "option_contract_size     = 100\n",
    "initial_holding_fraction = 0.5\n",
    "trading_cost_parameter   = 0.01\n",
    "trading_cost_gradient    = 0.01\n",
    "\n",
    "asset_price_model  = GBM(mu, vol, S_0, dt)\n",
    "option_price_model = BSM(strike_price, rf_interest_rate, vol, T, dt)\n",
    "env                = HedgingEnv(asset_price_model, option_price_model, max_steps, option_contract_size,\n",
    "                                initial_holding_fraction, trading_cost_parameter, trading_cost_gradient)"
   ]
  },
  {
   "cell_type": "code",
   "execution_count": 4,
   "metadata": {
    "ExecuteTime": {
     "end_time": "2021-09-12T07:30:53.351816Z",
     "start_time": "2021-09-12T07:30:53.346492Z"
    }
   },
   "outputs": [],
   "source": [
    "# DQN parameters\n",
    "num_hidden    = 1\n",
    "hidden_dim    = 20\n",
    "discount      = 0.8\n",
    "epsilon_decay = 0.999\n",
    "learning_rate = 0.001\n",
    "\n",
    "# TODO add batch norm?\n",
    "class QNet(torch.nn.Module):\n",
    "    def __init__(self, state_dim, num_hidden, hidden_dim, action_dim):\n",
    "        super(QNet, self).__init__()\n",
    "        self.input  = torch.nn.Linear(state_dim, hidden_dim)\n",
    "        self.hidden = [torch.nn.Linear(hidden_dim, hidden_dim)] * num_hidden\n",
    "        self.output = torch.nn.Linear(hidden_dim, action_dim)\n",
    "\n",
    "    def forward(self, state):\n",
    "        res = torch.relu(self.input(state))\n",
    "        for hidden_layer in self.hidden:\n",
    "            res = torch.relu(hidden_layer(res))\n",
    "        return self.output(res)\n",
    "\n",
    "qnet   = QNet(env.state_size(), num_hidden, hidden_dim, option_contract_size+1)\n",
    "qnet_t = QNet(env.state_size(), num_hidden, hidden_dim, option_contract_size+1)\n",
    "\n",
    "# TODO add LR scheduler?\n",
    "dqn = DQN(qnet, qnet_t, torch.optim.Adam, torch.nn.MSELoss(reduction='sum'), \n",
    "          discount=discount, epsilon_decay=epsilon_decay, learning_rate=learning_rate)"
   ]
  },
  {
   "cell_type": "code",
   "execution_count": 5,
   "metadata": {
    "ExecuteTime": {
     "end_time": "2021-09-12T07:30:53.354945Z",
     "start_time": "2021-09-12T07:30:53.352765Z"
    }
   },
   "outputs": [],
   "source": [
    "import dqn_utils\n",
    "_ = importlib.reload(dqn_utils)\n",
    "\n",
    "from dqn_utils import predict_while_training, add_to_training_set, train"
   ]
  },
  {
   "cell_type": "code",
   "execution_count": 19,
   "metadata": {
    "ExecuteTime": {
     "end_time": "2021-09-12T07:37:20.020274Z",
     "start_time": "2021-09-12T07:37:20.013363Z"
    }
   },
   "outputs": [
    {
     "data": {
      "text/plain": [
       "-9.5367431640625e-07"
      ]
     },
     "execution_count": 19,
     "metadata": {},
     "output_type": "execute_result"
    }
   ],
   "source": [
    "time.time() - time.time()\n",
    "\n"
   ]
  },
  {
   "cell_type": "code",
   "execution_count": 20,
   "metadata": {
    "ExecuteTime": {
     "end_time": "2021-09-12T07:37:39.316793Z",
     "start_time": "2021-09-12T07:37:31.475835Z"
    },
    "scrolled": false
   },
   "outputs": [
    {
     "name": "stdout",
     "output_type": "stream",
     "text": [
      "processing episode 0 0.0003440380096435547\n",
      "processing episode 25 0.08294796943664551\n",
      "processing episode 50 0.0507810115814209\n",
      "processing episode 75 0.050363779067993164\n",
      "processing episode 100 0.051980018615722656\n",
      "processing episode 125 0.05080127716064453\n",
      "processing episode 150 0.0505979061126709\n",
      "processing episode 175 0.050306081771850586\n",
      "processing episode 200 0.05003190040588379\n",
      "processing episode 225 0.05168914794921875\n",
      "processing episode 250 0.05069088935852051\n",
      "processing episode 275 0.05037498474121094\n",
      "processing episode 300 0.05017495155334473\n",
      "processing episode 325 0.05007815361022949\n",
      "processing episode 350 0.0521998405456543\n",
      "processing episode 375 0.0506742000579834\n",
      "processing episode 400 0.05067706108093262\n",
      "processing episode 425 0.05099678039550781\n",
      "processing episode 450 0.05210304260253906\n",
      "processing episode 475 0.05331301689147949\n",
      "processing episode 500 0.055185794830322266\n",
      "processing episode 525 0.32958006858825684\n",
      "processing episode 550 0.3349609375\n",
      "processing episode 575 0.3872220516204834\n",
      "processing episode 600 0.3477160930633545\n",
      "processing episode 625 0.3390779495239258\n",
      "processing episode 650 0.33338093757629395\n",
      "processing episode 675 0.33872222900390625\n",
      "processing episode 700 0.3370938301086426\n",
      "processing episode 725 0.3346290588378906\n",
      "processing episode 750 0.3338198661804199\n",
      "processing episode 775 0.3339400291442871\n",
      "processing episode 800 0.3340883255004883\n",
      "processing episode 825 0.3351895809173584\n",
      "processing episode 850 0.3355703353881836\n",
      "processing episode 875 0.336911678314209\n",
      "processing episode 900 0.3364901542663574\n",
      "processing episode 925 0.33752012252807617\n",
      "processing episode 950 0.3359549045562744\n",
      "processing episode 975 0.337238073348999\n"
     ]
    }
   ],
   "source": [
    "\n",
    "num_episodes = 1000\n",
    "st = time.time()\n",
    "\n",
    "for episode in range(num_episodes):\n",
    "    if episode % 25 == 0:\n",
    "        et = time.time()\n",
    "        tt = (et-st)\n",
    "        st = et\n",
    "        \n",
    "        print(f\"processing episode {episode} {tt}\")\n",
    "    \n",
    "    done  = False\n",
    "    state = env.reset()\n",
    "#     print(state)\n",
    "    while not done:\n",
    "        new_h                 = predict_while_training(dqn, state)\n",
    "        \n",
    "#         print(new_h)\n",
    "        \n",
    "        new_state, pnls, done = env.step(new_h.item())\n",
    "        \n",
    "        \n",
    "#         print(new_state, pnls, done)\n",
    "        \n",
    "        reward                = 1e-2 * (0.01*np.sum(pnls) - np.sum(pnls)**2)\n",
    "#         print(reward)\n",
    "\n",
    "        \n",
    "        add_to_training_set(dqn, state, new_h, new_state, reward, done)\n",
    "        \n",
    "        \n",
    "        state = new_state\n",
    "\n",
    "    if episode > num_episodes/2:\n",
    "        \n",
    "        for k in range(int(env.max_steps)):\n",
    "            train(dqn)\n"
   ]
  },
  {
   "cell_type": "code",
   "execution_count": 7,
   "metadata": {
    "ExecuteTime": {
     "end_time": "2021-09-12T07:30:53.765010Z",
     "start_time": "2021-09-12T07:30:53.761655Z"
    }
   },
   "outputs": [
    {
     "data": {
      "text/plain": [
       "127.58290634295207"
      ]
     },
     "execution_count": 7,
     "metadata": {},
     "output_type": "execute_result"
    }
   ],
   "source": [
    "asset_price_model.step()\n",
    "asset_price_model.get_asset_price()"
   ]
  },
  {
   "cell_type": "code",
   "execution_count": 8,
   "metadata": {
    "ExecuteTime": {
     "end_time": "2021-09-12T07:30:53.768921Z",
     "start_time": "2021-09-12T07:30:53.766359Z"
    }
   },
   "outputs": [
    {
     "data": {
      "text/plain": [
       "0.5563283472595516"
      ]
     },
     "execution_count": 8,
     "metadata": {},
     "output_type": "execute_result"
    }
   ],
   "source": [
    "option_price_model.get_option_delta(0, 100)"
   ]
  },
  {
   "cell_type": "code",
   "execution_count": 9,
   "metadata": {
    "ExecuteTime": {
     "end_time": "2021-09-12T07:30:53.772095Z",
     "start_time": "2021-09-12T07:30:53.769934Z"
    }
   },
   "outputs": [
    {
     "data": {
      "text/plain": [
       "100"
      ]
     },
     "execution_count": 9,
     "metadata": {},
     "output_type": "execute_result"
    }
   ],
   "source": [
    "option_price_model.K"
   ]
  },
  {
   "cell_type": "code",
   "execution_count": 10,
   "metadata": {
    "ExecuteTime": {
     "end_time": "2021-09-12T07:30:53.775846Z",
     "start_time": "2021-09-12T07:30:53.773102Z"
    }
   },
   "outputs": [
    {
     "data": {
      "text/plain": [
       "array([ 50.        ,   1.        , 100.        ,   6.45948318,\n",
       "         0.55632835])"
      ]
     },
     "execution_count": 10,
     "metadata": {},
     "output_type": "execute_result"
    }
   ],
   "source": [
    "env.reset()"
   ]
  },
  {
   "cell_type": "code",
   "execution_count": null,
   "metadata": {},
   "outputs": [],
   "source": []
  },
  {
   "cell_type": "code",
   "execution_count": 11,
   "metadata": {
    "ExecuteTime": {
     "end_time": "2021-09-12T07:30:53.891395Z",
     "start_time": "2021-09-12T07:30:53.776859Z"
    },
    "scrolled": true
   },
   "outputs": [
    {
     "ename": "NameError",
     "evalue": "name 'num_eps' is not defined",
     "output_type": "error",
     "traceback": [
      "\u001b[0;31m---------------------------------------------------------------------------\u001b[0m",
      "\u001b[0;31mNameError\u001b[0m                                 Traceback (most recent call last)",
      "\u001b[0;32m<ipython-input-11-9c4d788ba50b>\u001b[0m in \u001b[0;36m<module>\u001b[0;34m\u001b[0m\n\u001b[0;32m----> 1\u001b[0;31m \u001b[0;32mfor\u001b[0m \u001b[0mj\u001b[0m \u001b[0;32min\u001b[0m \u001b[0mrange\u001b[0m\u001b[0;34m(\u001b[0m\u001b[0mnum_eps\u001b[0m\u001b[0;34m)\u001b[0m\u001b[0;34m:\u001b[0m\u001b[0;34m\u001b[0m\u001b[0;34m\u001b[0m\u001b[0m\n\u001b[0m\u001b[1;32m      2\u001b[0m     \u001b[0mprint\u001b[0m\u001b[0;34m(\u001b[0m\u001b[0;34m\"episode: \"\u001b[0m\u001b[0;34m,\u001b[0m \u001b[0mj\u001b[0m\u001b[0;34m)\u001b[0m\u001b[0;34m\u001b[0m\u001b[0;34m\u001b[0m\u001b[0m\n\u001b[1;32m      3\u001b[0m     \u001b[0mstate\u001b[0m \u001b[0;34m=\u001b[0m \u001b[0menv\u001b[0m\u001b[0;34m.\u001b[0m\u001b[0mreset\u001b[0m\u001b[0;34m(\u001b[0m\u001b[0;34m)\u001b[0m\u001b[0;34m\u001b[0m\u001b[0;34m\u001b[0m\u001b[0m\n\u001b[1;32m      4\u001b[0m     \u001b[0mdone\u001b[0m \u001b[0;34m=\u001b[0m \u001b[0;32mFalse\u001b[0m\u001b[0;34m\u001b[0m\u001b[0;34m\u001b[0m\u001b[0m\n\u001b[1;32m      5\u001b[0m     \u001b[0mstate\u001b[0m \u001b[0;34m=\u001b[0m \u001b[0mstate\u001b[0m\u001b[0;34m[\u001b[0m\u001b[0;34m[\u001b[0m\u001b[0;36m0\u001b[0m\u001b[0;34m,\u001b[0m\u001b[0;36m1\u001b[0m\u001b[0;34m,\u001b[0m\u001b[0;36m2\u001b[0m\u001b[0;34m,\u001b[0m\u001b[0;36m4\u001b[0m\u001b[0;34m]\u001b[0m\u001b[0;34m]\u001b[0m\u001b[0;34m\u001b[0m\u001b[0;34m\u001b[0m\u001b[0m\n",
      "\u001b[0;31mNameError\u001b[0m: name 'num_eps' is not defined"
     ]
    }
   ],
   "source": [
    "for j in range(num_eps):\n",
    "    print(\"episode: \", j)\n",
    "    state = env.reset()\n",
    "    done = False\n",
    "    state = state[[0,1,2,4]]\n",
    "    while not done:\n",
    "        out = dqn.act_discrete_with_noise({\"state\": torch.tensor(state, dtype=torch.float32).unsqueeze(0)})\n",
    "        temp = out.squeeze().detach().numpy()\n",
    "#         print(temp)\n",
    "        action = temp/num_actions - env.h\n",
    "\n",
    "        new_state, reward, done = env.step(action)\n",
    "        #print(action)\n",
    "        #print(reward)\n",
    "        reward = np.sum(reward)\n",
    "        #print(reward)\n",
    "        new_state = new_state[[0, 1, 2, 4]]\n",
    "        #print(state)\n",
    "        reward = -norm_factor*((reward) ** 2 + 1 / 1000 * reward)\n",
    "        rew.append(reward)\n",
    "\n",
    "        dqn.store_episode([{\n",
    "            \"state\": {\"state\": torch.tensor(state, dtype=torch.float32).unsqueeze(0)},\n",
    "            \"action\": {\"action\": out},\n",
    "            \"next_state\": {\"state\": torch.tensor(new_state, dtype=torch.float32).unsqueeze(0)},\n",
    "            \"reward\": float(reward),  # norm factor\n",
    "            \"terminal\": done\n",
    "        }])\n",
    "        state = new_state\n",
    "\n",
    "    if j % 50 == 0 and j != 0:\n",
    "        print(test(10), test_delta(10))\n",
    "        print(\"reward: \", np.mean(rew), np.mean(rew)/norm_factor)\n",
    "        rew = []\n",
    "\n",
    "    if j > 100:\n",
    "        for k in range(int(num_steps)):\n",
    "            dqn.update()"
   ]
  },
  {
   "cell_type": "code",
   "execution_count": null,
   "metadata": {},
   "outputs": [],
   "source": []
  }
 ],
 "metadata": {
  "kernelspec": {
   "display_name": "Python 3",
   "language": "python",
   "name": "python3"
  },
  "language_info": {
   "codemirror_mode": {
    "name": "ipython",
    "version": 3
   },
   "file_extension": ".py",
   "mimetype": "text/x-python",
   "name": "python",
   "nbconvert_exporter": "python",
   "pygments_lexer": "ipython3",
   "version": "3.8.5"
  }
 },
 "nbformat": 4,
 "nbformat_minor": 4
}
